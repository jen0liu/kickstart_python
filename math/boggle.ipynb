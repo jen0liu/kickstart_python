{
 "cells": [
  {
   "cell_type": "markdown",
   "metadata": {},
   "source": [
    "<img src=\"boggle.png\" width=\"100\">"
   ]
  },
  {
   "cell_type": "code",
   "execution_count": null,
   "metadata": {},
   "outputs": [
    {
     "data": {
      "image/png": "[encoded data removed]",
      "text/plain": [
       "<IPython.core.display.Image object>"
      ]
     },
     "metadata": {},
     "output_type": "display_data"
    },
    {
     "name": "stdout",
     "output_type": "stream",
     "text": [
      "I love you so much babie\n"
     ]
    },
    {
     "data": {
      "text/html": [
       "\n",
       "        <iframe\n",
       "            width=\"400\"\n",
       "            height=\"300\"\n",
       "            src=\"https://www.youtube.com/embed/iV2ViNJFZC8\"\n",
       "            frameborder=\"0\"\n",
       "            allowfullscreen\n",
       "        ></iframe>\n",
       "        "
      ],
      "text/plain": [
       "<IPython.lib.display.YouTubeVideo at 0x1087188d0>"
      ]
     },
     "metadata": {},
     "output_type": "display_data"
    }
   ],
   "source": [
    "from IPython.display import display, Image, SVG, Math, YouTubeVideo\n",
    "from IPython.display import HTML\n",
    "\n",
    "i = Image(filename='boggle.png')\n",
    "display(i)\n",
    "print('I love you so much babie')\n",
    "display(YouTubeVideo('iV2ViNJFZC8'))\n",
    "HTML('<iframe width=\"560\" height=\"315\" src=\"https://www.youtube.com/embed/S_f2qV2_U00?rel=0&amp;controls=0&amp;showinfo=0\" frameborder=\"0\" allowfullscreen></iframe>')\n",
    "\n",
    "\n",
    "import copy\n",
    "class Graph(object):\n",
    "    def __init__(self, board):\n",
    "        self.board = board\n",
    "        self.letters = {}\n",
    "        self.adj_list = {}\n",
    "        directions = [(-1, -1), (-1, 0), (-1, 1), (0, -1), (0, 1), (1, -1), (1, 0), (1, 1)]\n",
    "        for i in range(5):\n",
    "            for j in range(5):\n",
    "                if board[i][j] not in self.letters:\n",
    "                    self.letters[board[i][j]] = []\n",
    "                self.letters[board[i][j]].append((i, j))\n",
    "                self.adj_list[(board[i][j], i, j)] = []\n",
    "                for d1, d2 in directions:\n",
    "                    k = i + d1\n",
    "                    l = j + d2\n",
    "                    if k >= 0 and k < 5 and l >= 0 and l < 5:\n",
    "                        self.adj_list[(board[i][j], i, j)].append((board[k][l], k, l))\n",
    "\n",
    "    def dfs(self, word):\n",
    "        if len(word) < 4:\n",
    "            return False\n",
    "        stack = []\n",
    "        if word[0] not in self.letters:\n",
    "            return False\n",
    "        for i, j in self.letters[word[0]]:\n",
    "            stack.append((word[0], word, (word[0], i, j), set([(i, j)])))\n",
    "        while len(stack) > 0:\n",
    "            sub, word, let, positions = stack.pop()\n",
    "            if sub == word:\n",
    "                return True\n",
    "            next_letter = word[len(sub)]\n",
    "            for l, i, j in self.adj_list[let]:\n",
    "                if l == next_letter and (i, j) not in positions:\n",
    "                    p2 = copy.deepcopy(positions)\n",
    "                    p2.add((i, j))\n",
    "                    stack.append((sub + next_letter, word, (l, i, j), p2))\n",
    "        return False\n",
    "\n",
    "\n",
    "d = []\n",
    "\n",
    "\n",
    "def load_dictionary():\n",
    "    with open('dictionary.txt') as f:\n",
    "        for line in f:\n",
    "            if len(line) >= 4 and not line[0].isupper():\n",
    "                d.append(line.upper()[:-1])\n",
    "\n",
    "\n",
    "def points(word):\n",
    "    if len(word) == 4:\n",
    "        return 1\n",
    "    if len(word) == 5:\n",
    "        return 2\n",
    "    if len(word) == 6:\n",
    "        return 3\n",
    "    if len(word) == 7:\n",
    "        return 5\n",
    "    if len(word) >= 8:\n",
    "        return 11\n",
    "    return 0\n",
    "\n",
    "\n",
    "def find_words(board):\n",
    "    g = Graph(board)\n",
    "    words = []\n",
    "    for word in d:\n",
    "        if g.dfs(word):\n",
    "            words.append((word, points(word)))\n",
    "    return words\n",
    "\n",
    "\n",
    "def boggle_input():\n",
    "    board = []\n",
    "    for i in range(5):\n",
    "        board.append(input().split())\n",
    "    words = find_words(board)\n",
    "    total_points = 0\n",
    "    for word, points in words:\n",
    "        total_points += points\n",
    "        print(word + \" \" + str(points))\n",
    "    print(total_points)\n",
    "\n",
    "\n",
    "if __name__ == '__main__':\n",
    "    load_dictionary()\n",
    "    boggle_input()"
   ]
  },
  {
   "cell_type": "code",
   "execution_count": null,
   "metadata": {},
   "outputs": [],
   "source": []
  }
 ],
 "metadata": {
  "kernelspec": {
   "display_name": "math",
   "language": "python",
   "name": "math"
  },
  "language_info": {
   "codemirror_mode": {
    "name": "ipython",
    "version": 3
   },
   "file_extension": ".py",
   "mimetype": "text/x-python",
   "name": "python",
   "nbconvert_exporter": "python",
   "pygments_lexer": "ipython3",
   "version": "3.6.5"
  }
 },
 "nbformat": 4,
 "nbformat_minor": 2
}
